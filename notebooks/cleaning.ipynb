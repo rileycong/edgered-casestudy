{
 "cells": [
  {
   "cell_type": "markdown",
   "metadata": {},
   "source": [
    "# Problem Statement\n",
    "\n",
    "Data overview:\n",
    "\n",
    "Payments: Each line represents a transaction payment for a contract\n",
    "• TransactionID -> primary key / unique identifier\n",
    "• ContractID -> a contract will have multiple repayments\n",
    "• ClientID -> the client of the contract\n",
    "• TransactionDate -> This is date in a EPOCH format - you will have to figure out how to convert it\n",
    "• Amount -> Repayment amount\n",
    "• Payment Code -> DEFAULT means a payment was not made\n",
    "\n",
    "Clients: Each line represents a unique client and their information\n",
    "• ClientID\n",
    "• Entity Type -> Business type\n",
    "• Entity Year Established -> First year the business was open\n",
    "\n",
    "Business question:\n",
    "Payment defaults are detrimental to the business and are a significant cost factor.\n",
    "Are there any key trends in the data which can help me avoid default-prone customers in the future?"
   ]
  },
  {
   "cell_type": "code",
   "execution_count": 1,
   "metadata": {},
   "outputs": [],
   "source": [
    "import pandas as pd\n",
    "from datetime import datetime"
   ]
  },
  {
   "cell_type": "markdown",
   "metadata": {},
   "source": [
    "# First Look"
   ]
  },
  {
   "cell_type": "code",
   "execution_count": 2,
   "metadata": {},
   "outputs": [],
   "source": [
    "# Load the data files\n",
    "clients_df_org = pd.read_csv('data/Clients.csv')\n",
    "payments_df_org = pd.read_csv('data/Payments.csv')"
   ]
  },
  {
   "cell_type": "code",
   "execution_count": 3,
   "metadata": {},
   "outputs": [
    {
     "data": {
      "text/html": [
       "<div>\n",
       "<style scoped>\n",
       "    .dataframe tbody tr th:only-of-type {\n",
       "        vertical-align: middle;\n",
       "    }\n",
       "\n",
       "    .dataframe tbody tr th {\n",
       "        vertical-align: top;\n",
       "    }\n",
       "\n",
       "    .dataframe thead th {\n",
       "        text-align: right;\n",
       "    }\n",
       "</style>\n",
       "<table border=\"1\" class=\"dataframe\">\n",
       "  <thead>\n",
       "    <tr style=\"text-align: right;\">\n",
       "      <th></th>\n",
       "      <th>transaction_id</th>\n",
       "      <th>contract_id</th>\n",
       "      <th>client_id</th>\n",
       "      <th>transaction_date</th>\n",
       "      <th>payment_amt</th>\n",
       "      <th>payment_code</th>\n",
       "    </tr>\n",
       "  </thead>\n",
       "  <tbody>\n",
       "    <tr>\n",
       "      <th>0</th>\n",
       "      <td>20175</td>\n",
       "      <td>927</td>\n",
       "      <td>1</td>\n",
       "      <td>1527012511</td>\n",
       "      <td>66.66</td>\n",
       "      <td>PAYMENT</td>\n",
       "    </tr>\n",
       "    <tr>\n",
       "      <th>1</th>\n",
       "      <td>8485</td>\n",
       "      <td>927</td>\n",
       "      <td>1</td>\n",
       "      <td>1511716095</td>\n",
       "      <td>66.66</td>\n",
       "      <td>PAYMENT</td>\n",
       "    </tr>\n",
       "    <tr>\n",
       "      <th>2</th>\n",
       "      <td>13778</td>\n",
       "      <td>927</td>\n",
       "      <td>1</td>\n",
       "      <td>1519319303</td>\n",
       "      <td>66.66</td>\n",
       "      <td>PAYMENT</td>\n",
       "    </tr>\n",
       "    <tr>\n",
       "      <th>3</th>\n",
       "      <td>22768</td>\n",
       "      <td>927</td>\n",
       "      <td>1</td>\n",
       "      <td>1529863724</td>\n",
       "      <td>66.66</td>\n",
       "      <td>PAYMENT</td>\n",
       "    </tr>\n",
       "    <tr>\n",
       "      <th>4</th>\n",
       "      <td>15698</td>\n",
       "      <td>927</td>\n",
       "      <td>1</td>\n",
       "      <td>1521738504</td>\n",
       "      <td>66.66</td>\n",
       "      <td>PAYMENT</td>\n",
       "    </tr>\n",
       "    <tr>\n",
       "      <th>...</th>\n",
       "      <td>...</td>\n",
       "      <td>...</td>\n",
       "      <td>...</td>\n",
       "      <td>...</td>\n",
       "      <td>...</td>\n",
       "      <td>...</td>\n",
       "    </tr>\n",
       "    <tr>\n",
       "      <th>25554</th>\n",
       "      <td>25075</td>\n",
       "      <td>1603</td>\n",
       "      <td>1280</td>\n",
       "      <td>1532023764</td>\n",
       "      <td>1666.68</td>\n",
       "      <td>PAYMENT</td>\n",
       "    </tr>\n",
       "    <tr>\n",
       "      <th>25555</th>\n",
       "      <td>24711</td>\n",
       "      <td>1603</td>\n",
       "      <td>1280</td>\n",
       "      <td>1531764560</td>\n",
       "      <td>0.01</td>\n",
       "      <td>PAYMENT</td>\n",
       "    </tr>\n",
       "    <tr>\n",
       "      <th>25556</th>\n",
       "      <td>25076</td>\n",
       "      <td>1603</td>\n",
       "      <td>1280</td>\n",
       "      <td>1532023764</td>\n",
       "      <td>64.99</td>\n",
       "      <td>PAYMENT</td>\n",
       "    </tr>\n",
       "    <tr>\n",
       "      <th>25557</th>\n",
       "      <td>25132</td>\n",
       "      <td>1627</td>\n",
       "      <td>1281</td>\n",
       "      <td>1532282886</td>\n",
       "      <td>0.01</td>\n",
       "      <td>PAYMENT</td>\n",
       "    </tr>\n",
       "    <tr>\n",
       "      <th>25558</th>\n",
       "      <td>25131</td>\n",
       "      <td>1627</td>\n",
       "      <td>1281</td>\n",
       "      <td>1532282886</td>\n",
       "      <td>20000.05</td>\n",
       "      <td>PAYMENT</td>\n",
       "    </tr>\n",
       "  </tbody>\n",
       "</table>\n",
       "<p>25559 rows × 6 columns</p>\n",
       "</div>"
      ],
      "text/plain": [
       "       transaction_id  contract_id  client_id  transaction_date  payment_amt  \\\n",
       "0               20175          927          1        1527012511        66.66   \n",
       "1                8485          927          1        1511716095        66.66   \n",
       "2               13778          927          1        1519319303        66.66   \n",
       "3               22768          927          1        1529863724        66.66   \n",
       "4               15698          927          1        1521738504        66.66   \n",
       "...               ...          ...        ...               ...          ...   \n",
       "25554           25075         1603       1280        1532023764      1666.68   \n",
       "25555           24711         1603       1280        1531764560         0.01   \n",
       "25556           25076         1603       1280        1532023764        64.99   \n",
       "25557           25132         1627       1281        1532282886         0.01   \n",
       "25558           25131         1627       1281        1532282886     20000.05   \n",
       "\n",
       "      payment_code  \n",
       "0          PAYMENT  \n",
       "1          PAYMENT  \n",
       "2          PAYMENT  \n",
       "3          PAYMENT  \n",
       "4          PAYMENT  \n",
       "...            ...  \n",
       "25554      PAYMENT  \n",
       "25555      PAYMENT  \n",
       "25556      PAYMENT  \n",
       "25557      PAYMENT  \n",
       "25558      PAYMENT  \n",
       "\n",
       "[25559 rows x 6 columns]"
      ]
     },
     "execution_count": 3,
     "metadata": {},
     "output_type": "execute_result"
    }
   ],
   "source": [
    "payments_df_org"
   ]
  },
  {
   "cell_type": "code",
   "execution_count": 4,
   "metadata": {},
   "outputs": [],
   "source": [
    "# a function to check data problems\n",
    "def check_data(df):\n",
    "    print(f\"Info:\\n{df.info()}\")\n",
    "    print(f\"Number of null values for each col:\\n{df.isnull().sum()}\")\n",
    "    print(f\"Number of duplicates:\\n{df.duplicated().sum()}\")\n",
    "    print(f\"Number of unique values for each col: {df.nunique()}\")"
   ]
  },
  {
   "cell_type": "code",
   "execution_count": 5,
   "metadata": {},
   "outputs": [
    {
     "name": "stdout",
     "output_type": "stream",
     "text": [
      "<class 'pandas.core.frame.DataFrame'>\n",
      "RangeIndex: 25559 entries, 0 to 25558\n",
      "Data columns (total 6 columns):\n",
      " #   Column            Non-Null Count  Dtype  \n",
      "---  ------            --------------  -----  \n",
      " 0   transaction_id    25559 non-null  int64  \n",
      " 1   contract_id       25559 non-null  int64  \n",
      " 2   client_id         25559 non-null  int64  \n",
      " 3   transaction_date  25559 non-null  int64  \n",
      " 4   payment_amt       25559 non-null  float64\n",
      " 5   payment_code      25559 non-null  object \n",
      "dtypes: float64(1), int64(4), object(1)\n",
      "memory usage: 1.2+ MB\n",
      "Info:\n",
      "None\n",
      "Number of null values for each col:\n",
      "transaction_id      0\n",
      "contract_id         0\n",
      "client_id           0\n",
      "transaction_date    0\n",
      "payment_amt         0\n",
      "payment_code        0\n",
      "dtype: int64\n",
      "Number of duplicates:\n",
      "0\n",
      "Number of unique values for each col: transaction_id      25559\n",
      "contract_id          1643\n",
      "client_id            1281\n",
      "transaction_date      931\n",
      "payment_amt           906\n",
      "payment_code            2\n",
      "dtype: int64\n"
     ]
    }
   ],
   "source": [
    "check_data(payments_df_org)"
   ]
  },
  {
   "cell_type": "markdown",
   "metadata": {},
   "source": [
    "The payments data seems clean, with no duplicate and missing value. The only problem is the transaction_date column, which is in epoch format.\n",
    "\n",
    "Note that there are 1281 different clients who made payment. Let's cross check it with the customers data."
   ]
  },
  {
   "cell_type": "code",
   "execution_count": 6,
   "metadata": {},
   "outputs": [
    {
     "name": "stdout",
     "output_type": "stream",
     "text": [
      "<class 'pandas.core.frame.DataFrame'>\n",
      "RangeIndex: 1287 entries, 0 to 1286\n",
      "Data columns (total 3 columns):\n",
      " #   Column                   Non-Null Count  Dtype \n",
      "---  ------                   --------------  ----- \n",
      " 0   client_id                1287 non-null   int64 \n",
      " 1   entity_type              1287 non-null   object\n",
      " 2   entity_year_established  1287 non-null   int64 \n",
      "dtypes: int64(2), object(1)\n",
      "memory usage: 30.3+ KB\n",
      "Info:\n",
      "None\n",
      "Number of null values for each col:\n",
      "client_id                  0\n",
      "entity_type                0\n",
      "entity_year_established    0\n",
      "dtype: int64\n",
      "Number of duplicates:\n",
      "0\n",
      "Number of unique values for each col: client_id                  1281\n",
      "entity_type                  10\n",
      "entity_year_established      20\n",
      "dtype: int64\n"
     ]
    }
   ],
   "source": [
    "check_data(clients_df_org)"
   ]
  },
  {
   "cell_type": "code",
   "execution_count": 7,
   "metadata": {},
   "outputs": [
    {
     "name": "stdout",
     "output_type": "stream",
     "text": [
      "Duplicates in Clients:\n",
      "      client_id                     entity_type  entity_year_established\n",
      "245         591      Australian Private Company                     2013\n",
      "306         591      Australian Private Company                     2007\n",
      "332         473      Australian Private Company                     2016\n",
      "350         473          Individual/Sole Trader                     2008\n",
      "401         165      Australian Private Company                     2015\n",
      "816         591      Australian Private Company                     2015\n",
      "1063        797  Discretionary Investment Trust                     2016\n",
      "1115        165          Individual/Sole Trader                     2006\n",
      "1172       1262      Australian Private Company                     2005\n",
      "1182       1262      Australian Private Company                     2016\n",
      "1275        797      Australian Private Company                     2002\n"
     ]
    }
   ],
   "source": [
    "# find rows with the same client_id in Clients\n",
    "clients_duplicates = clients_df_org[clients_df_org.duplicated(subset=['client_id'], keep=False)]\n",
    "print(f\"Duplicates in Clients:\\n{clients_duplicates}\")"
   ]
  },
  {
   "cell_type": "markdown",
   "metadata": {},
   "source": [
    "There are 5 clients with the same ID yet different entity type and/or year of establishment\n",
    "\n",
    "- Companies with the Same Client ID but Different Entity Year Established: These are companies that might have the same Entity Type but are listed with different years of establishment. This could happen if the business was registered multiple times under different legal frameworks or if the data is entered incorrectly.\n",
    "\n",
    "- Companies with Different Entity Type and Entity Year Established: These are companies that have changed both their legal structure (i.e., Entity Type) and their registration year (Entity Year Established), likely reflecting a reorganization. For companies who change to another entity type, their historical record is still kept. \n",
    "\n",
    "We would further examine these clients after cleaning the data."
   ]
  },
  {
   "cell_type": "markdown",
   "metadata": {},
   "source": [
    "# Data Preprocessing"
   ]
  },
  {
   "cell_type": "markdown",
   "metadata": {},
   "source": [
    "## Data Cleaning"
   ]
  },
  {
   "cell_type": "code",
   "execution_count": 8,
   "metadata": {},
   "outputs": [],
   "source": [
    "payments_df = payments_df_org.copy()\n",
    "clients_df = clients_df_org.copy()"
   ]
  },
  {
   "cell_type": "code",
   "execution_count": 9,
   "metadata": {},
   "outputs": [
    {
     "data": {
      "text/plain": [
       "0       2018-05-22 18:08:31\n",
       "1       2017-11-26 17:08:15\n",
       "2       2018-02-22 17:08:23\n",
       "3       2018-06-24 18:08:44\n",
       "4       2018-03-22 17:08:24\n",
       "                ...        \n",
       "25554   2018-07-19 18:09:24\n",
       "25555   2018-07-16 18:09:20\n",
       "25556   2018-07-19 18:09:24\n",
       "25557   2018-07-22 18:08:06\n",
       "25558   2018-07-22 18:08:06\n",
       "Name: transaction_datetime, Length: 25559, dtype: datetime64[ns]"
      ]
     },
     "execution_count": 9,
     "metadata": {},
     "output_type": "execute_result"
    }
   ],
   "source": [
    "# convert the \"transaction_date\" column from epoch to datetime\n",
    "payments_df['transaction_datetime'] = pd.to_datetime(payments_df_org['transaction_date'], unit='s')\n",
    "payments_df = payments_df.drop(columns=['transaction_date'])\n",
    "payments_df['transaction_datetime']"
   ]
  },
  {
   "cell_type": "markdown",
   "metadata": {},
   "source": [
    "Now to determine how to deal with the duplicated client ids, we will examine their payment data"
   ]
  },
  {
   "cell_type": "code",
   "execution_count": 10,
   "metadata": {},
   "outputs": [
    {
     "data": {
      "text/html": [
       "<div>\n",
       "<style scoped>\n",
       "    .dataframe tbody tr th:only-of-type {\n",
       "        vertical-align: middle;\n",
       "    }\n",
       "\n",
       "    .dataframe tbody tr th {\n",
       "        vertical-align: top;\n",
       "    }\n",
       "\n",
       "    .dataframe thead th {\n",
       "        text-align: right;\n",
       "    }\n",
       "</style>\n",
       "<table border=\"1\" class=\"dataframe\">\n",
       "  <thead>\n",
       "    <tr style=\"text-align: right;\">\n",
       "      <th></th>\n",
       "      <th>transaction_id</th>\n",
       "      <th>contract_id</th>\n",
       "      <th>client_id</th>\n",
       "      <th>payment_amt</th>\n",
       "      <th>payment_code</th>\n",
       "      <th>transaction_datetime</th>\n",
       "    </tr>\n",
       "  </thead>\n",
       "  <tbody>\n",
       "  </tbody>\n",
       "</table>\n",
       "</div>"
      ],
      "text/plain": [
       "Empty DataFrame\n",
       "Columns: [transaction_id, contract_id, client_id, payment_amt, payment_code, transaction_datetime]\n",
       "Index: []"
      ]
     },
     "execution_count": 10,
     "metadata": {},
     "output_type": "execute_result"
    }
   ],
   "source": [
    "payments_duplicates = payments_df[payments_df['client_id'].isin(clients_duplicates['client_id'])]\n",
    "# check if the payment code is default for the duplicated clients\n",
    "payments_duplicates[payments_duplicates['payment_code'] == 'default']"
   ]
  },
  {
   "cell_type": "markdown",
   "metadata": {},
   "source": [
    "**None of these clients have default payment.**\n",
    "\n",
    "Plus, the earliest recorded payment in the dataset is 2017, which is after all the recorded established dates for the duplicated clients. Thus, it might be suitable to only keep the record with establishment year nearest to the first recorded payment of these clients."
   ]
  },
  {
   "cell_type": "code",
   "execution_count": 11,
   "metadata": {},
   "outputs": [
    {
     "data": {
      "text/plain": [
       "(Timestamp('2017-07-02 18:08:02'), Timestamp('2018-07-24 18:08:10'))"
      ]
     },
     "execution_count": 11,
     "metadata": {},
     "output_type": "execute_result"
    }
   ],
   "source": [
    "payments_df['transaction_datetime'].min(), payments_df['transaction_datetime'].max()"
   ]
  },
  {
   "cell_type": "code",
   "execution_count": 12,
   "metadata": {
    "vscode": {
     "languageId": "ruby"
    }
   },
   "outputs": [
    {
     "name": "stdout",
     "output_type": "stream",
     "text": [
      "0\n",
      "<class 'pandas.core.frame.DataFrame'>\n",
      "Index: 1281 entries, 0 to 1182\n",
      "Data columns (total 3 columns):\n",
      " #   Column                   Non-Null Count  Dtype \n",
      "---  ------                   --------------  ----- \n",
      " 0   client_id                1281 non-null   int64 \n",
      " 1   entity_type              1281 non-null   object\n",
      " 2   entity_year_established  1281 non-null   int64 \n",
      "dtypes: int64(2), object(1)\n",
      "memory usage: 40.0+ KB\n",
      "None\n"
     ]
    }
   ],
   "source": [
    "# Find the record with the most recent established year for each client\n",
    "filtered_clients = clients_df.loc[clients_duplicates.groupby('client_id')['entity_year_established'].idxmax()]\n",
    "\n",
    "clients_df = clients_df[~clients_df['client_id'].isin(clients_duplicates['client_id'])]\n",
    "clients_df = pd.concat([clients_df, filtered_clients])\n",
    "\n",
    "print(clients_df.duplicated(subset=['client_id']).sum()) # should be 0\n",
    "print(clients_df.info())"
   ]
  },
  {
   "cell_type": "markdown",
   "metadata": {},
   "source": [
    "## Feature Engineering"
   ]
  },
  {
   "cell_type": "markdown",
   "metadata": {},
   "source": [
    "Some features that would be useful in determining the default-prone customers:\n",
    "\n",
    "- Time of transaction: day in month, month in year\n",
    "- Clients' entity types and number of years established\n",
    "- Clients' payment history: total amount paid, average amount per transaction, number of previous payments, frequency of payment, number of previous contract\n",
    "- Clients' default history: If they defaulted previously"
   ]
  },
  {
   "cell_type": "code",
   "execution_count": 13,
   "metadata": {},
   "outputs": [
    {
     "data": {
      "text/plain": [
       "count    1281.000000\n",
       "mean       15.917252\n",
       "std         5.715332\n",
       "min         7.000000\n",
       "25%        11.000000\n",
       "50%        15.000000\n",
       "75%        21.000000\n",
       "max        26.000000\n",
       "Name: entity_age, dtype: float64"
      ]
     },
     "execution_count": 13,
     "metadata": {},
     "output_type": "execute_result"
    }
   ],
   "source": [
    "# calculate the current age of the client = current year - year of birth\n",
    "clients_df[\"entity_age\"] = datetime.now().year - clients_df[\"entity_year_established\"]\n",
    "clients_df[\"entity_age\"].describe()"
   ]
  },
  {
   "cell_type": "code",
   "execution_count": 14,
   "metadata": {
    "vscode": {
     "languageId": "ruby"
    }
   },
   "outputs": [
    {
     "data": {
      "text/html": [
       "<div>\n",
       "<style scoped>\n",
       "    .dataframe tbody tr th:only-of-type {\n",
       "        vertical-align: middle;\n",
       "    }\n",
       "\n",
       "    .dataframe tbody tr th {\n",
       "        vertical-align: top;\n",
       "    }\n",
       "\n",
       "    .dataframe thead th {\n",
       "        text-align: right;\n",
       "    }\n",
       "</style>\n",
       "<table border=\"1\" class=\"dataframe\">\n",
       "  <thead>\n",
       "    <tr style=\"text-align: right;\">\n",
       "      <th></th>\n",
       "      <th>client_id</th>\n",
       "      <th>transaction_id</th>\n",
       "      <th>transaction_datetime</th>\n",
       "      <th>total_amount_paid_before</th>\n",
       "      <th>avg_amount_per_transaction_before</th>\n",
       "      <th>num_payments_before</th>\n",
       "      <th>num_contracts_before</th>\n",
       "      <th>num_defaults_before</th>\n",
       "    </tr>\n",
       "  </thead>\n",
       "  <tbody>\n",
       "    <tr>\n",
       "      <th>0</th>\n",
       "      <td>1</td>\n",
       "      <td>8322</td>\n",
       "      <td>2017-11-22 17:08:16</td>\n",
       "      <td>0.00</td>\n",
       "      <td>0.00</td>\n",
       "      <td>0</td>\n",
       "      <td>0</td>\n",
       "      <td>0</td>\n",
       "    </tr>\n",
       "    <tr>\n",
       "      <th>1</th>\n",
       "      <td>1</td>\n",
       "      <td>8323</td>\n",
       "      <td>2017-11-22 17:08:16</td>\n",
       "      <td>5050.04</td>\n",
       "      <td>5050.04</td>\n",
       "      <td>1</td>\n",
       "      <td>1</td>\n",
       "      <td>0</td>\n",
       "    </tr>\n",
       "    <tr>\n",
       "      <th>2</th>\n",
       "      <td>1</td>\n",
       "      <td>8484</td>\n",
       "      <td>2017-11-26 17:08:15</td>\n",
       "      <td>5100.04</td>\n",
       "      <td>2550.02</td>\n",
       "      <td>2</td>\n",
       "      <td>1</td>\n",
       "      <td>0</td>\n",
       "    </tr>\n",
       "    <tr>\n",
       "      <th>3</th>\n",
       "      <td>1</td>\n",
       "      <td>8485</td>\n",
       "      <td>2017-11-26 17:08:15</td>\n",
       "      <td>5566.71</td>\n",
       "      <td>1855.57</td>\n",
       "      <td>3</td>\n",
       "      <td>1</td>\n",
       "      <td>0</td>\n",
       "    </tr>\n",
       "    <tr>\n",
       "      <th>4</th>\n",
       "      <td>1</td>\n",
       "      <td>10125</td>\n",
       "      <td>2017-12-21 17:08:22</td>\n",
       "      <td>5633.37</td>\n",
       "      <td>1408.34</td>\n",
       "      <td>4</td>\n",
       "      <td>1</td>\n",
       "      <td>0</td>\n",
       "    </tr>\n",
       "    <tr>\n",
       "      <th>...</th>\n",
       "      <td>...</td>\n",
       "      <td>...</td>\n",
       "      <td>...</td>\n",
       "      <td>...</td>\n",
       "      <td>...</td>\n",
       "      <td>...</td>\n",
       "      <td>...</td>\n",
       "      <td>...</td>\n",
       "    </tr>\n",
       "    <tr>\n",
       "      <th>25554</th>\n",
       "      <td>1280</td>\n",
       "      <td>24711</td>\n",
       "      <td>2018-07-16 18:09:20</td>\n",
       "      <td>20000.05</td>\n",
       "      <td>20000.05</td>\n",
       "      <td>1</td>\n",
       "      <td>1</td>\n",
       "      <td>0</td>\n",
       "    </tr>\n",
       "    <tr>\n",
       "      <th>25555</th>\n",
       "      <td>1280</td>\n",
       "      <td>25075</td>\n",
       "      <td>2018-07-19 18:09:24</td>\n",
       "      <td>20000.06</td>\n",
       "      <td>10000.03</td>\n",
       "      <td>2</td>\n",
       "      <td>1</td>\n",
       "      <td>0</td>\n",
       "    </tr>\n",
       "    <tr>\n",
       "      <th>25556</th>\n",
       "      <td>1280</td>\n",
       "      <td>25076</td>\n",
       "      <td>2018-07-19 18:09:24</td>\n",
       "      <td>21666.74</td>\n",
       "      <td>7222.25</td>\n",
       "      <td>3</td>\n",
       "      <td>1</td>\n",
       "      <td>0</td>\n",
       "    </tr>\n",
       "    <tr>\n",
       "      <th>25557</th>\n",
       "      <td>1281</td>\n",
       "      <td>25131</td>\n",
       "      <td>2018-07-22 18:08:06</td>\n",
       "      <td>0.00</td>\n",
       "      <td>0.00</td>\n",
       "      <td>0</td>\n",
       "      <td>0</td>\n",
       "      <td>0</td>\n",
       "    </tr>\n",
       "    <tr>\n",
       "      <th>25558</th>\n",
       "      <td>1281</td>\n",
       "      <td>25132</td>\n",
       "      <td>2018-07-22 18:08:06</td>\n",
       "      <td>20000.05</td>\n",
       "      <td>20000.05</td>\n",
       "      <td>1</td>\n",
       "      <td>1</td>\n",
       "      <td>0</td>\n",
       "    </tr>\n",
       "  </tbody>\n",
       "</table>\n",
       "<p>25559 rows × 8 columns</p>\n",
       "</div>"
      ],
      "text/plain": [
       "       client_id  transaction_id transaction_datetime  \\\n",
       "0              1            8322  2017-11-22 17:08:16   \n",
       "1              1            8323  2017-11-22 17:08:16   \n",
       "2              1            8484  2017-11-26 17:08:15   \n",
       "3              1            8485  2017-11-26 17:08:15   \n",
       "4              1           10125  2017-12-21 17:08:22   \n",
       "...          ...             ...                  ...   \n",
       "25554       1280           24711  2018-07-16 18:09:20   \n",
       "25555       1280           25075  2018-07-19 18:09:24   \n",
       "25556       1280           25076  2018-07-19 18:09:24   \n",
       "25557       1281           25131  2018-07-22 18:08:06   \n",
       "25558       1281           25132  2018-07-22 18:08:06   \n",
       "\n",
       "       total_amount_paid_before  avg_amount_per_transaction_before  \\\n",
       "0                          0.00                               0.00   \n",
       "1                       5050.04                            5050.04   \n",
       "2                       5100.04                            2550.02   \n",
       "3                       5566.71                            1855.57   \n",
       "4                       5633.37                            1408.34   \n",
       "...                         ...                                ...   \n",
       "25554                  20000.05                           20000.05   \n",
       "25555                  20000.06                           10000.03   \n",
       "25556                  21666.74                            7222.25   \n",
       "25557                      0.00                               0.00   \n",
       "25558                  20000.05                           20000.05   \n",
       "\n",
       "       num_payments_before  num_contracts_before  num_defaults_before  \n",
       "0                        0                     0                    0  \n",
       "1                        1                     1                    0  \n",
       "2                        2                     1                    0  \n",
       "3                        3                     1                    0  \n",
       "4                        4                     1                    0  \n",
       "...                    ...                   ...                  ...  \n",
       "25554                    1                     1                    0  \n",
       "25555                    2                     1                    0  \n",
       "25556                    3                     1                    0  \n",
       "25557                    0                     0                    0  \n",
       "25558                    1                     1                    0  \n",
       "\n",
       "[25559 rows x 8 columns]"
      ]
     },
     "execution_count": 14,
     "metadata": {},
     "output_type": "execute_result"
    }
   ],
   "source": [
    "# sort by client_id and payment_date to ensure we're processing payments in chronological order\n",
    "payments_df = payments_df.sort_values(by=['client_id', 'transaction_datetime', 'transaction_id'])\n",
    "\n",
    "aggregated_data = []\n",
    "\n",
    "# loop through each payment to calculate historical data before the payment date\n",
    "for _, row in payments_df.iterrows():\n",
    "    client_id = row['client_id']\n",
    "    transaction_datetime = row['transaction_datetime']\n",
    "    transaction_id = row['transaction_id']\n",
    "    payment_code = row['payment_code']\n",
    "    \n",
    "    previous_payments = payments_df[(payments_df['client_id'] == client_id) & (payments_df['transaction_datetime'] <= transaction_datetime) & (payments_df['transaction_id'] < transaction_id) & (payments_df['payment_code'] != \"DEFAULT\")]\n",
    "    previous_defaults = payments_df[(payments_df['client_id'] == client_id) & (payments_df['transaction_datetime'] <= transaction_datetime) & (payments_df['transaction_id'] < transaction_id) & (payments_df['payment_code'] == \"DEFAULT\")]\n",
    "    \n",
    "    # aggregate previous payment details\n",
    "    total_amount_paid_before = previous_payments['payment_amt'].sum() if not previous_payments.empty else 0\n",
    "    avg_amount_per_transaction_before = previous_payments['payment_amt'].mean() if not previous_payments.empty else 0\n",
    "    num_payments_before = previous_payments.shape[0] if not previous_payments.empty else 0\n",
    "    num_contracts_before = previous_payments['contract_id'].nunique()\n",
    "    num_defaults_before = previous_defaults.shape[0] if not previous_defaults.empty else 0\n",
    "\n",
    "    aggregated_data.append({\n",
    "        'client_id': client_id,\n",
    "        'transaction_id': transaction_id,\n",
    "        'transaction_datetime': transaction_datetime,\n",
    "        'total_amount_paid_before': round(total_amount_paid_before, 2),\n",
    "        'avg_amount_per_transaction_before': round(avg_amount_per_transaction_before, 2),\n",
    "        'num_payments_before': num_payments_before,\n",
    "        'num_contracts_before': num_contracts_before,\n",
    "        'num_defaults_before': num_defaults_before,\n",
    "    })\n",
    "\n",
    "client_payment_history_df = pd.DataFrame(aggregated_data)\n",
    "\n",
    "# # If you want to aggregate these into one row per client, just group by client_id and aggregate\n",
    "# client_payment_history_df = aggregated_df.groupby('client_id').agg(\n",
    "#     total_amount_paid=('total_amount_paid', 'sum'),\n",
    "#     avg_amount_per_transaction=('avg_amount_per_transaction', 'mean'),\n",
    "#     payment_frequency=('payment_frequency', 'sum'),\n",
    "#     num_contracts_before=('num_contracts_before', 'sum')\n",
    "# ).reset_index()\n",
    "\n",
    "# # Round results for cleaner output\n",
    "# client_payment_history_df['total_amount_paid'] = client_payment_history_df['total_amount_paid'].round(2)\n",
    "# client_payment_history_df['avg_amount_per_transaction'] = client_payment_history_df['avg_amount_per_transaction'].round(2)\n",
    "\n",
    "# client_payment_history_df\n",
    "client_payment_history_df"
   ]
  },
  {
   "cell_type": "code",
   "execution_count": 15,
   "metadata": {
    "vscode": {
     "languageId": "ruby"
    }
   },
   "outputs": [
    {
     "name": "stdout",
     "output_type": "stream",
     "text": [
      "<class 'pandas.core.frame.DataFrame'>\n",
      "RangeIndex: 25559 entries, 0 to 25558\n",
      "Data columns (total 8 columns):\n",
      " #   Column                             Non-Null Count  Dtype         \n",
      "---  ------                             --------------  -----         \n",
      " 0   client_id                          25559 non-null  int64         \n",
      " 1   transaction_id                     25559 non-null  int64         \n",
      " 2   transaction_datetime               25559 non-null  datetime64[ns]\n",
      " 3   total_amount_paid_before           25559 non-null  float64       \n",
      " 4   avg_amount_per_transaction_before  25559 non-null  float64       \n",
      " 5   num_payments_before                25559 non-null  int64         \n",
      " 6   num_contracts_before               25559 non-null  int64         \n",
      " 7   num_defaults_before                25559 non-null  int64         \n",
      "dtypes: datetime64[ns](1), float64(2), int64(5)\n",
      "memory usage: 1.6 MB\n"
     ]
    }
   ],
   "source": [
    "client_payment_history_df.info()"
   ]
  },
  {
   "cell_type": "markdown",
   "metadata": {},
   "source": [
    "## Data Merging"
   ]
  },
  {
   "cell_type": "code",
   "execution_count": 16,
   "metadata": {
    "vscode": {
     "languageId": "ruby"
    }
   },
   "outputs": [],
   "source": [
    "# merge the payment history with the payments_df\n",
    "payments_df = payments_df.merge(client_payment_history_df, on=['client_id', 'transaction_id', 'transaction_datetime'])"
   ]
  },
  {
   "cell_type": "code",
   "execution_count": 17,
   "metadata": {
    "vscode": {
     "languageId": "ruby"
    }
   },
   "outputs": [],
   "source": [
    "# merge the payment_df with the clients_df, inner join since we generally want to keep only the clients that have made payments\n",
    "merged_df = payments_df.merge(clients_df, on='client_id', how='inner')"
   ]
  },
  {
   "cell_type": "code",
   "execution_count": 18,
   "metadata": {
    "vscode": {
     "languageId": "ruby"
    }
   },
   "outputs": [
    {
     "name": "stdout",
     "output_type": "stream",
     "text": [
      "<class 'pandas.core.frame.DataFrame'>\n",
      "RangeIndex: 25559 entries, 0 to 25558\n",
      "Data columns (total 14 columns):\n",
      " #   Column                             Non-Null Count  Dtype         \n",
      "---  ------                             --------------  -----         \n",
      " 0   transaction_id                     25559 non-null  int64         \n",
      " 1   contract_id                        25559 non-null  int64         \n",
      " 2   client_id                          25559 non-null  int64         \n",
      " 3   payment_amt                        25559 non-null  float64       \n",
      " 4   payment_code                       25559 non-null  object        \n",
      " 5   transaction_datetime               25559 non-null  datetime64[ns]\n",
      " 6   total_amount_paid_before           25559 non-null  float64       \n",
      " 7   avg_amount_per_transaction_before  25559 non-null  float64       \n",
      " 8   num_payments_before                25559 non-null  int64         \n",
      " 9   num_contracts_before               25559 non-null  int64         \n",
      " 10  num_defaults_before                25559 non-null  int64         \n",
      " 11  entity_type                        25559 non-null  object        \n",
      " 12  entity_year_established            25559 non-null  int64         \n",
      " 13  entity_age                         25559 non-null  int64         \n",
      "dtypes: datetime64[ns](1), float64(3), int64(8), object(2)\n",
      "memory usage: 2.7+ MB\n"
     ]
    }
   ],
   "source": [
    "merged_df.info()"
   ]
  },
  {
   "cell_type": "code",
   "execution_count": 19,
   "metadata": {
    "vscode": {
     "languageId": "ruby"
    }
   },
   "outputs": [],
   "source": [
    "# save merged_df to a CSV file\n",
    "merged_df.to_csv('data/ClientsPayments.csv', index=False)"
   ]
  }
 ],
 "metadata": {
  "kernelspec": {
   "display_name": ".venv",
   "language": "python",
   "name": "python3"
  },
  "language_info": {
   "codemirror_mode": {
    "name": "ipython",
    "version": 3
   },
   "file_extension": ".py",
   "mimetype": "text/x-python",
   "name": "python",
   "nbconvert_exporter": "python",
   "pygments_lexer": "ipython3",
   "version": "3.12.6"
  }
 },
 "nbformat": 4,
 "nbformat_minor": 2
}
